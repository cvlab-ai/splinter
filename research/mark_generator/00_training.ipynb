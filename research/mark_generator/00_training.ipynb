{
 "cells": [
  {
   "cell_type": "code",
   "execution_count": null,
   "outputs": [],
   "source": [
    "from pathlib import Path\n",
    "\n",
    "import numpy as np\n",
    "from keras.utils import image_dataset_from_directory\n",
    "from keras.models import Sequential, load_model\n",
    "from keras.layers import GlobalAveragePooling2D, Dense\n",
    "from keras.applications import MobileNetV3Small\n",
    "from keras.losses import BinaryCrossentropy\n",
    "from keras.optimizers import Adam\n",
    "from matplotlib import pyplot as plt\n",
    "import cv2"
   ],
   "metadata": {
    "collapsed": false
   }
  },
  {
   "cell_type": "code",
   "execution_count": null,
   "outputs": [],
   "source": [
    "TRAINING_DS_DIR = 'data/output/'\n",
    "MODEL_PATH = 'data/model/'\n",
    "OV_MODEL_PATH = 'data/model_ov'\n",
    "IMG_SIZE = (90, 90)\n",
    "INPUT_SHAPE = tuple(list(IMG_SIZE) + [3])\n",
    "BATCH_SIZE = 4\n",
    "LEARNING_RATE = 0.0001\n",
    "EPOCHS = 10\n",
    "\n",
    "MODE = 'LOAD' # LOAD / BUILD\n",
    "TRAIN = False"
   ],
   "metadata": {
    "collapsed": false
   }
  },
  {
   "cell_type": "markdown",
   "source": [
    "## Load dataset"
   ],
   "metadata": {
    "collapsed": false
   }
  },
  {
   "cell_type": "code",
   "execution_count": null,
   "outputs": [],
   "source": [
    "def image_dataset(subset: str):\n",
    "    return image_dataset_from_directory(\n",
    "        TRAINING_DS_DIR,\n",
    "        validation_split=0.2,\n",
    "        subset=subset,\n",
    "        seed=123,\n",
    "        image_size=IMG_SIZE,\n",
    "        batch_size=BATCH_SIZE,\n",
    "        color_mode='rgb',\n",
    "        label_mode='binary'\n",
    "        )\n",
    "\n",
    "train_ds = image_dataset(\"training\")\n",
    "val_ds = image_dataset(\"validation\")"
   ],
   "metadata": {
    "collapsed": false
   }
  },
  {
   "cell_type": "markdown",
   "source": [
    "## Create model"
   ],
   "metadata": {
    "collapsed": false
   }
  },
  {
   "cell_type": "code",
   "execution_count": null,
   "outputs": [],
   "source": [
    "if MODE == \"BUILD\":\n",
    "    base_model = MobileNetV3Small(\n",
    "        input_shape=INPUT_SHAPE,\n",
    "        include_top=False,\n",
    "        weights=\"imagenet\"\n",
    "    )\n",
    "    base_model.trainable = False\n",
    "    model = Sequential([\n",
    "        base_model,\n",
    "        GlobalAveragePooling2D(),\n",
    "        Dense(1, activation=\"sigmoid\")\n",
    "    ])\n",
    "    model.compile(\n",
    "        optimizer=Adam(learning_rate=LEARNING_RATE),\n",
    "        loss=BinaryCrossentropy(from_logits=True),\n",
    "        metrics=['accuracy']\n",
    "    )\n",
    "else:\n",
    "    model = load_model(MODEL_PATH)\n",
    "model.summary()"
   ],
   "metadata": {
    "collapsed": false
   }
  },
  {
   "cell_type": "markdown",
   "source": [
    "## Train"
   ],
   "metadata": {
    "collapsed": false
   }
  },
  {
   "cell_type": "code",
   "execution_count": null,
   "outputs": [],
   "source": [
    "if TRAIN:\n",
    "    history = model.fit(\n",
    "      train_ds,\n",
    "      validation_data=val_ds,\n",
    "      epochs=EPOCHS\n",
    "    )\n",
    "\n",
    "    Path(MODEL_PATH).mkdir(parents=True, exist_ok=True)\n",
    "    model.save(MODEL_PATH)"
   ],
   "metadata": {
    "collapsed": false
   }
  },
  {
   "cell_type": "markdown",
   "source": [
    "## Visualize training result"
   ],
   "metadata": {
    "collapsed": false
   }
  },
  {
   "cell_type": "code",
   "execution_count": null,
   "outputs": [],
   "source": [
    "if 'history' in globals():\n",
    "    acc = history.history['accuracy']\n",
    "    val_acc = history.history['val_accuracy']\n",
    "\n",
    "    loss = history.history['loss']\n",
    "    val_loss = history.history['val_loss']\n",
    "\n",
    "    epochs_range = range(EPOCHS)\n",
    "\n",
    "    plt.plot(epochs_range, acc, label='Training Accuracy')\n",
    "    plt.plot(epochs_range, val_acc, label='Validation Accuracy')\n",
    "    plt.legend(loc='lower right')\n",
    "    plt.title('Training and Validation Accuracy')\n",
    "    plt.show()\n",
    "\n",
    "    plt.plot(epochs_range, loss, label='Training Loss')\n",
    "    plt.plot(epochs_range, val_loss, label='Validation Loss')\n",
    "    plt.legend(loc='upper right')\n",
    "    plt.title('Training and Validation Loss')\n",
    "    plt.show()"
   ],
   "metadata": {
    "collapsed": false
   }
  },
  {
   "cell_type": "code",
   "execution_count": null,
   "outputs": [],
   "source": [
    "! pip install openvino-dev --quiet\n",
    "! mo --saved_model_dir $MODEL_PATH --output_dir $OV_MODEL_PATH"
   ],
   "metadata": {
    "collapsed": false
   }
  },
  {
   "cell_type": "markdown",
   "source": [
    "## Test model"
   ],
   "metadata": {
    "collapsed": false
   }
  },
  {
   "cell_type": "code",
   "execution_count": null,
   "outputs": [],
   "source": [
    "full_img = cv2.imread(\"data/val/mark_boxes.jpg\", cv2.IMREAD_COLOR)\n",
    "x_slices = np.linspace(0, full_img.shape[1], 5)\n",
    "images = [full_img[:, int(x1):int(x2)] for x1, x2 in zip(x_slices[:-1], x_slices[1:])]\n",
    "images = [cv2.resize(img, dsize=IMG_SIZE) for img in images]\n",
    "\n",
    "f, ax = plt.subplots(1, 4)\n",
    "for i, img in enumerate(images):\n",
    "    ax[i].imshow(img)\n",
    "    prediction = model.predict(np.array([img]))[0][0]\n",
    "    ax[i].title.set_text(f\"{prediction:4f}\")\n",
    "plt.show()"
   ],
   "metadata": {
    "collapsed": false
   }
  },
  {
   "cell_type": "markdown",
   "source": [],
   "metadata": {
    "collapsed": false
   }
  }
 ],
 "metadata": {
  "kernelspec": {
   "name": "python3",
   "language": "python",
   "display_name": "Python 3 (ipykernel)"
  },
  "language_info": {
   "codemirror_mode": {
    "name": "ipython",
    "version": 2
   },
   "file_extension": ".py",
   "mimetype": "text/x-python",
   "name": "python",
   "nbconvert_exporter": "python",
   "pygments_lexer": "ipython2",
   "version": "2.7.6"
  }
 },
 "nbformat": 4,
 "nbformat_minor": 0
}

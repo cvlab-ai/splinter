{
 "cells": [
  {
   "cell_type": "code",
   "execution_count": 43,
   "metadata": {},
   "outputs": [],
   "source": [
    "%matplotlib inline\n",
    "import autogluon.core as ag\n",
    "from autogluon.vision import ImagePredictor, ImageDataset\n",
    "import pandas as pd"
   ]
  },
  {
   "cell_type": "code",
   "execution_count": 44,
   "metadata": {},
   "outputs": [],
   "source": [
    "dataset_csv = '/home/jakubdeb/repo/splinter/dataset.csv'\n",
    "val_dataset = '/home/jakubdeb/repo/splinter/dataset_val.csv'\n",
    "df = ImagePredictor.Dataset.from_csv(dataset_csv)\n",
    "val_df = ImagePredictor.Dataset.from_csv(val_dataset)"
   ]
  },
  {
   "cell_type": "code",
   "execution_count": 45,
   "metadata": {},
   "outputs": [
    {
     "name": "stderr",
     "output_type": "stream",
     "text": [
      "ImagePredictor sets accuracy as default eval_metric for classification problems.\n",
      "`time_limit=auto` set to `time_limit=7200`.\n",
      "Selected class <--> label mapping:  class 1 = 1, class 0 = 0\n",
      "Randomly split train_data into train[9000]/validation[1000] splits.\n",
      "The number of requested GPUs is greater than the number of available GPUs.Reduce the number to 1\n",
      "Starting fit without HPO\n",
      "modified configs(<old> != <new>): {\n",
      "root.misc.num_workers 4 != 16\n",
      "root.misc.seed       42 != 442\n",
      "root.img_cls.model   resnet101 != resnet50\n",
      "root.train.early_stop_max_value 1.0 != inf\n",
      "root.train.early_stop_baseline 0.0 != -inf\n",
      "root.train.batch_size 32 != 16\n",
      "root.train.epochs    200 != 15\n",
      "root.train.early_stop_patience -1 != 10\n",
      "}\n",
      "Saved config to /home/jakubdeb/repo/splinter/research/experimental_gluon/11618ac4/.trial_0/config.yaml\n",
      "Model resnet50 created, param count:                                         23512130\n",
      "AMP not enabled. Training in float32.\n",
      "Disable EMA as it is not supported for now.\n",
      "Start training from [Epoch 0]\n",
      "Epoch[0] Batch [49]\tSpeed: 221.275314 samples/sec\taccuracy=0.592500\tlr=0.000100\n",
      "Epoch[0] Batch [99]\tSpeed: 266.404474 samples/sec\taccuracy=0.613750\tlr=0.000100\n",
      "Epoch[0] Batch [149]\tSpeed: 273.478442 samples/sec\taccuracy=0.595000\tlr=0.000100\n",
      "Epoch[0] Batch [199]\tSpeed: 271.439092 samples/sec\taccuracy=0.598437\tlr=0.000100\n",
      "Epoch[0] Batch [249]\tSpeed: 273.474453 samples/sec\taccuracy=0.595750\tlr=0.000100\n",
      "Epoch[0] Batch [299]\tSpeed: 270.394954 samples/sec\taccuracy=0.599792\tlr=0.000100\n",
      "Epoch[0] Batch [349]\tSpeed: 266.020353 samples/sec\taccuracy=0.599821\tlr=0.000100\n",
      "Epoch[0] Batch [399]\tSpeed: 269.057323 samples/sec\taccuracy=0.608125\tlr=0.000100\n",
      "Epoch[0] Batch [449]\tSpeed: 268.753811 samples/sec\taccuracy=0.608750\tlr=0.000100\n",
      "Epoch[0] Batch [499]\tSpeed: 268.291995 samples/sec\taccuracy=0.611250\tlr=0.000100\n",
      "Epoch[0] Batch [549]\tSpeed: 272.940925 samples/sec\taccuracy=0.615455\tlr=0.000100\n",
      "[Epoch 0] training: accuracy=0.616214\n",
      "[Epoch 0] speed: 264 samples/sec\ttime cost: 33.955278\n",
      "[Epoch 0] validation: top1=0.628000 top5=1.000000\n",
      "[Epoch 0] Current best top-1: 0.628000 vs previous -inf, saved to /home/jakubdeb/repo/splinter/research/experimental_gluon/11618ac4/.trial_0/best_checkpoint.pkl\n",
      "Epoch[1] Batch [49]\tSpeed: 258.894090 samples/sec\taccuracy=0.698750\tlr=0.003400\n",
      "Epoch[1] Batch [99]\tSpeed: 269.624977 samples/sec\taccuracy=0.748750\tlr=0.003400\n",
      "Epoch[1] Batch [149]\tSpeed: 269.009048 samples/sec\taccuracy=0.780417\tlr=0.003400\n",
      "Epoch[1] Batch [199]\tSpeed: 267.728781 samples/sec\taccuracy=0.796875\tlr=0.003400\n",
      "Epoch[1] Batch [249]\tSpeed: 272.460880 samples/sec\taccuracy=0.814250\tlr=0.003400\n",
      "Epoch[1] Batch [299]\tSpeed: 273.234392 samples/sec\taccuracy=0.825208\tlr=0.003400\n",
      "Epoch[1] Batch [349]\tSpeed: 271.968413 samples/sec\taccuracy=0.832679\tlr=0.003400\n",
      "Epoch[1] Batch [399]\tSpeed: 269.089688 samples/sec\taccuracy=0.840000\tlr=0.003400\n",
      "Epoch[1] Batch [449]\tSpeed: 271.307144 samples/sec\taccuracy=0.847083\tlr=0.003400\n",
      "Epoch[1] Batch [499]\tSpeed: 271.480138 samples/sec\taccuracy=0.852500\tlr=0.003400\n",
      "Epoch[1] Batch [549]\tSpeed: 270.215288 samples/sec\taccuracy=0.858068\tlr=0.003400\n",
      "[Epoch 1] training: accuracy=0.859319\n",
      "[Epoch 1] speed: 268 samples/sec\ttime cost: 33.377795\n",
      "[Epoch 1] validation: top1=0.994000 top5=1.000000\n",
      "[Epoch 1] Current best top-1: 0.994000 vs previous 0.628000, saved to /home/jakubdeb/repo/splinter/research/experimental_gluon/11618ac4/.trial_0/best_checkpoint.pkl\n",
      "Epoch[2] Batch [49]\tSpeed: 255.314225 samples/sec\taccuracy=0.930000\tlr=0.006700\n",
      "Epoch[2] Batch [99]\tSpeed: 270.639719 samples/sec\taccuracy=0.928750\tlr=0.006700\n",
      "Epoch[2] Batch [149]\tSpeed: 269.908726 samples/sec\taccuracy=0.927500\tlr=0.006700\n",
      "Epoch[2] Batch [199]\tSpeed: 268.998179 samples/sec\taccuracy=0.928125\tlr=0.006700\n",
      "Epoch[2] Batch [249]\tSpeed: 267.683330 samples/sec\taccuracy=0.930500\tlr=0.006700\n",
      "Epoch[2] Batch [299]\tSpeed: 267.352337 samples/sec\taccuracy=0.928958\tlr=0.006700\n",
      "Epoch[2] Batch [349]\tSpeed: 270.326008 samples/sec\taccuracy=0.931429\tlr=0.006700\n",
      "Epoch[2] Batch [399]\tSpeed: 267.134809 samples/sec\taccuracy=0.933281\tlr=0.006700\n",
      "Epoch[2] Batch [449]\tSpeed: 268.665391 samples/sec\taccuracy=0.933889\tlr=0.006700\n",
      "Epoch[2] Batch [499]\tSpeed: 267.779503 samples/sec\taccuracy=0.934000\tlr=0.006700\n",
      "Epoch[2] Batch [549]\tSpeed: 267.150824 samples/sec\taccuracy=0.935568\tlr=0.006700\n",
      "[Epoch 2] training: accuracy=0.935943\n",
      "[Epoch 2] speed: 266 samples/sec\ttime cost: 33.643575\n",
      "[Epoch 2] validation: top1=0.992000 top5=1.000000\n",
      "Epoch[3] Batch [49]\tSpeed: 251.334044 samples/sec\taccuracy=0.953750\tlr=0.010000\n",
      "Epoch[3] Batch [99]\tSpeed: 266.663255 samples/sec\taccuracy=0.951875\tlr=0.010000\n",
      "Epoch[3] Batch [149]\tSpeed: 266.571355 samples/sec\taccuracy=0.950000\tlr=0.010000\n",
      "Epoch[3] Batch [199]\tSpeed: 267.575106 samples/sec\taccuracy=0.950937\tlr=0.010000\n",
      "Epoch[3] Batch [249]\tSpeed: 261.910286 samples/sec\taccuracy=0.954500\tlr=0.010000\n",
      "Epoch[3] Batch [299]\tSpeed: 264.233696 samples/sec\taccuracy=0.952708\tlr=0.010000\n",
      "Epoch[3] Batch [349]\tSpeed: 263.183513 samples/sec\taccuracy=0.952321\tlr=0.010000\n",
      "Epoch[3] Batch [399]\tSpeed: 261.956271 samples/sec\taccuracy=0.950937\tlr=0.010000\n",
      "Epoch[3] Batch [449]\tSpeed: 260.436331 samples/sec\taccuracy=0.950139\tlr=0.010000\n",
      "Epoch[3] Batch [499]\tSpeed: 263.749513 samples/sec\taccuracy=0.951750\tlr=0.010000\n",
      "Epoch[3] Batch [549]\tSpeed: 261.102629 samples/sec\taccuracy=0.952500\tlr=0.010000\n",
      "[Epoch 3] training: accuracy=0.952625\n",
      "[Epoch 3] speed: 262 samples/sec\ttime cost: 34.257958\n",
      "[Epoch 3] validation: top1=1.000000 top5=1.000000\n",
      "[Epoch 3] Current best top-1: 1.000000 vs previous 0.994000, saved to /home/jakubdeb/repo/splinter/research/experimental_gluon/11618ac4/.trial_0/best_checkpoint.pkl\n",
      "[Epoch 4] Early stopping as acc is reaching 1.0\n",
      "Applying the state from the best checkpoint...\n",
      "Finished, total runtime is 142.55 s\n",
      "{ 'best_config': { 'batch_size': 16,\n",
      "                   'dist_ip_addrs': None,\n",
      "                   'early_stop_baseline': -inf,\n",
      "                   'early_stop_max_value': inf,\n",
      "                   'early_stop_patience': 10,\n",
      "                   'epochs': 15,\n",
      "                   'final_fit': False,\n",
      "                   'gpus': [0],\n",
      "                   'lr': 0.01,\n",
      "                   'model': 'resnet50',\n",
      "                   'ngpus_per_trial': 8,\n",
      "                   'nthreads_per_trial': 128,\n",
      "                   'num_workers': 16,\n",
      "                   'searcher': 'random',\n",
      "                   'seed': 442,\n",
      "                   'time_limits': 7200},\n",
      "  'total_time': 136.29778361320496,\n",
      "  'train_acc': 0.9526245551601423,\n",
      "  'valid_acc': 1.0}\n"
     ]
    },
    {
     "data": {
      "text/plain": [
       "<autogluon.vision.predictor.predictor.ImagePredictor at 0x7ff1824d8490>"
      ]
     },
     "execution_count": 45,
     "metadata": {},
     "output_type": "execute_result"
    }
   ],
   "source": [
    "predictor = ImagePredictor()\n",
    "predictor.fit(df)"
   ]
  },
  {
   "cell_type": "code",
   "execution_count": 46,
   "metadata": {},
   "outputs": [
    {
     "name": "stdout",
     "output_type": "stream",
     "text": [
      "Top-1 train acc: 0.953, val acc: 1.000\n"
     ]
    }
   ],
   "source": [
    "fit_result = predictor.fit_summary()\n",
    "print('Top-1 train acc: %.3f, val acc: %.3f' %(fit_result['train_acc'], fit_result['valid_acc']))"
   ]
  },
  {
   "cell_type": "code",
   "execution_count": 48,
   "metadata": {},
   "outputs": [
    {
     "name": "stderr",
     "output_type": "stream",
     "text": [
      "[Epoch 3] validation: top1=0.999500 top5=1.000000\n"
     ]
    },
    {
     "name": "stdout",
     "output_type": "stream",
     "text": [
      "Top-1 test acc: 1.000\n"
     ]
    }
   ],
   "source": [
    "test_acc = predictor.evaluate(val_df)\n",
    "print('Top-1 test acc: %.3f' % test_acc['top1'])"
   ]
  }
 ],
 "metadata": {
  "kernelspec": {
   "display_name": "Python 3.8.10 ('venv': venv)",
   "language": "python",
   "name": "python3"
  },
  "language_info": {
   "codemirror_mode": {
    "name": "ipython",
    "version": 3
   },
   "file_extension": ".py",
   "mimetype": "text/x-python",
   "name": "python",
   "nbconvert_exporter": "python",
   "pygments_lexer": "ipython3",
   "version": "3.8.10"
  },
  "orig_nbformat": 4,
  "vscode": {
   "interpreter": {
    "hash": "74283e06228d4494a659e92a437093ac62ef0b0f163ddec465853a074f32f723"
   }
  }
 },
 "nbformat": 4,
 "nbformat_minor": 2
}

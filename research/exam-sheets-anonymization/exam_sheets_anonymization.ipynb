{
  "cells": [
    {
      "cell_type": "code",
      "execution_count": 1,
      "metadata": {
        "colab": {
          "base_uri": "https://localhost:8080/"
        },
        "id": "osKd7EwxWKw_",
        "outputId": "0a1270cd-678a-4638-94ad-a85255e1b250"
      },
      "outputs": [
        {
          "name": "stdout",
          "output_type": "stream",
          "text": [
            "Reading package lists... Done\n",
            "Building dependency tree... Done\n",
            "Reading state information... Done\n",
            "poppler-utils is already the newest version (22.02.0-2ubuntu0.3).\n",
            "0 upgraded, 0 newly installed, 0 to remove and 45 not upgraded.\n",
            "Requirement already satisfied: pdf2image in /usr/local/lib/python3.10/dist-packages (1.17.0)\n",
            "Requirement already satisfied: pillow in /usr/local/lib/python3.10/dist-packages (from pdf2image) (9.4.0)\n"
          ]
        }
      ],
      "source": [
        "!apt-get install poppler-utils\n",
        "!pip install pdf2image\n",
        "!pip install pillow"
      ]
    },
    {
      "cell_type": "code",
      "execution_count": 2,
      "metadata": {
        "id": "r8Z4PSUgUu-3"
      },
      "outputs": [],
      "source": [
        "from pdf2image import convert_from_path\n",
        "from PIL import Image\n",
        "from os import listdir\n",
        "from os.path import splitext\n",
        "from pathlib import Path"
      ]
    },
    {
      "cell_type": "code",
      "execution_count": 3,
      "metadata": {
        "id": "1t_-agHWGZzL"
      },
      "outputs": [],
      "source": [
        "Path(\"extract\").mkdir(parents=True, exist_ok=True)"
      ]
    },
    {
      "cell_type": "code",
      "execution_count": 4,
      "metadata": {
        "id": "am1rNk0DWO0F"
      },
      "outputs": [],
      "source": [
        "target_directory = './input'\n",
        "image_exts = ['.png', '.jpg']\n",
        "pdf_exts = ['.pdf']\n",
        "target_ext = '.png'\n",
        "\n",
        "for file in listdir(target_directory):\n",
        "  filename, ext = splitext(file)\n",
        "  try:\n",
        "    if ext in image_exts:\n",
        "      im = Image.open(f\"{target_directory}/{filename}{ext}\")\n",
        "      im.save(f'extract/{filename}{target_ext}')\n",
        "    if ext in pdf_exts:\n",
        "      pages = convert_from_path(f\"{target_directory}/{filename}{ext}\")\n",
        "      for i, page in enumerate(pages):\n",
        "        page.save(f'extract/{filename}_page_{i}{target_ext}')\n",
        "  except OSError:\n",
        "    print('Cannot convert %s' % file)"
      ]
    },
    {
      "cell_type": "code",
      "execution_count": 6,
      "metadata": {
        "colab": {
          "base_uri": "https://localhost:8080/"
        },
        "id": "z90wo9W0d2bz",
        "outputId": "df885a45-20a7-46a1-d354-0ce46cb60b99"
      },
      "outputs": [
        {
          "name": "stdout",
          "output_type": "stream",
          "text": [
            "Requirement already satisfied: opencv-python in /usr/local/lib/python3.10/dist-packages (4.8.0.76)\n",
            "Requirement already satisfied: numpy>=1.21.2 in /usr/local/lib/python3.10/dist-packages (from opencv-python) (1.25.2)\n"
          ]
        }
      ],
      "source": [
        "!pip install opencv-python"
      ]
    },
    {
      "cell_type": "code",
      "execution_count": 7,
      "metadata": {
        "id": "JRVPRA0De66l"
      },
      "outputs": [],
      "source": [
        "import cv2\n",
        "import numpy as np\n",
        "import matplotlib.pyplot as plt\n",
        "import math\n",
        "from random import randint"
      ]
    },
    {
      "cell_type": "code",
      "execution_count": 8,
      "metadata": {
        "id": "sovHTsyfizo5"
      },
      "outputs": [],
      "source": [
        "from google.colab.patches import cv2_imshow"
      ]
    },
    {
      "cell_type": "code",
      "execution_count": 9,
      "metadata": {
        "id": "qR0kblMalSee"
      },
      "outputs": [],
      "source": [
        "def detect_black_squares(image):\n",
        "  \"\"\"\n",
        "  Detect all black squares in the image\n",
        "  Detection is based on detecting all squares,\n",
        "  then selecting the largest one (max area)\n",
        "  and filtering those that are similar to it.\n",
        "  \"\"\"\n",
        "  gray = cv2.cvtColor(image, cv2.COLOR_BGR2GRAY)\n",
        "  _, binary = cv2.threshold(gray, 0, 255, cv2.THRESH_BINARY | cv2.THRESH_OTSU)\n",
        "\n",
        "  edged = cv2.Canny(binary, 30, 200)\n",
        "\n",
        "  contours, _ = cv2.findContours(edged, cv2.RETR_EXTERNAL, cv2.CHAIN_APPROX_SIMPLE)\n",
        "\n",
        "  black_square_coords = []\n",
        "  for contour in contours:\n",
        "      x, y, w, h = cv2.boundingRect(contour)\n",
        "      ratio = float(w/h)\n",
        "      if ratio >= 0.95 and ratio <= 1.05: # +/- 5%\n",
        "        black_square_coords.append((w * h, contour))\n",
        "  black_square_coords.sort(key=lambda x: x[0], reverse=True)\n",
        "  reference_area = black_square_coords[0][0]\n",
        "\n",
        "  filtered_squares = [square for square in black_square_coords if abs(square[0] - reference_area) <= 0.05 * reference_area] # +/- 5%\n",
        "  return filtered_squares"
      ]
    },
    {
      "cell_type": "code",
      "execution_count": 10,
      "metadata": {
        "id": "rVb9FtvpG-yQ"
      },
      "outputs": [],
      "source": [
        "def detect_rotation_angle(contour):\n",
        "  \"\"\"\n",
        "  Ratation detection\n",
        "  Checking by what angle the image should be rotated\n",
        "  so that the square is parallel to the edge\n",
        "  \"\"\"\n",
        "  rect = cv2.minAreaRect(contour)\n",
        "  angle = rect[2]\n",
        "  return angle if angle < 90.0 else angle - 90.0\n",
        "\n",
        "def rotate_image(image, angle):\n",
        "  \"\"\"\n",
        "  Rotate the image by a given angle\n",
        "  \"\"\"\n",
        "  size_reverse = np.array(image.shape[1::-1]) # swap x with y\n",
        "  M = cv2.getRotationMatrix2D(tuple(size_reverse / 2.), angle, 1.)\n",
        "  MM = np.absolute(M[:,:2])\n",
        "  size_new = MM @ size_reverse\n",
        "  M[:,-1] += (size_new - size_reverse) / 2.\n",
        "  return cv2.warpAffine(image, M, tuple(size_new.astype(int)), flags=cv2.INTER_CUBIC, borderMode=cv2.BORDER_REPLICATE)"
      ]
    },
    {
      "cell_type": "code",
      "execution_count": 11,
      "metadata": {
        "id": "d_fwv2KHX_YF"
      },
      "outputs": [],
      "source": [
        "def check_horizontal_line(squares, bottom_left_square):\n",
        "  \"\"\"\n",
        "  Check the number of squares in a horizontal line to a given square\n",
        "  \"\"\"\n",
        "  count = 0\n",
        "  if bottom_left_square:\n",
        "    _, y, _, h = bottom_left_square\n",
        "    m = y + (h / 2)\n",
        "    for square in squares:\n",
        "      s_m = square[1] + (square[3] / 2)\n",
        "      if m - 2 * h <= s_m <= m + 2 * h:\n",
        "        count += 1\n",
        "  return count\n",
        "\n",
        "def check_vertical_line(squares, bottom_left_square):\n",
        "  \"\"\"\n",
        "  Check the number of squares in a vertical line to a given square\n",
        "  \"\"\"\n",
        "  count = 0\n",
        "  if bottom_left_square:\n",
        "    x, _, w, _ = bottom_left_square\n",
        "    m = x + (w / 2)\n",
        "    for square in squares:\n",
        "      s_m = square[0] + (square[2] / 2)\n",
        "      if m - 2 * w <= s_m <= m + 2 * w:\n",
        "        count += 1\n",
        "  return count\n",
        "\n",
        "def find_bottom_left_square(squares, image):\n",
        "  \"\"\"\n",
        "  Find left bottom square\n",
        "  \"\"\"\n",
        "  height, _, _ = img.shape\n",
        "  nearest_square = None\n",
        "  min_distance = float('inf')\n",
        "  for square in squares:\n",
        "      x, y, _, _ = square\n",
        "      distance = ((0 - x) ** 2 + (height - y) ** 2) ** 0.5\n",
        "      if distance < min_distance:\n",
        "          min_distance = distance\n",
        "          nearest_square = square\n",
        "  return nearest_square\n",
        "\n",
        "def find_extreme_squares(squares, image):\n",
        "  \"\"\"\n",
        "  Find the square closest to the top left\n",
        "  and bottom right corners of the image\n",
        "  \"\"\"\n",
        "  nearest_square = None\n",
        "  farest_square = None\n",
        "  min_distance = float('inf')\n",
        "  max_distance = float('-inf')\n",
        "  for square in squares:\n",
        "      x, y, _, _ = square\n",
        "      distance = x + y # L1\n",
        "      if distance < min_distance:\n",
        "          min_distance = distance\n",
        "          nearest_square = square\n",
        "      if distance > max_distance:\n",
        "          max_distance = distance\n",
        "          farest_square = square\n",
        "  return nearest_square, farest_square"
      ]
    },
    {
      "cell_type": "code",
      "execution_count": 12,
      "metadata": {
        "colab": {
          "base_uri": "https://localhost:8080/"
        },
        "id": "B3fKdP-gX2JG",
        "outputId": "bda8549f-47aa-4458-941d-284b39cd9008"
      },
      "outputs": [
        {
          "name": "stdout",
          "output_type": "stream",
          "text": [
            "Image: 0\n",
            "Angle: 70.21597544352214 [70.30797576904297, 70.13084411621094, 70.17753601074219, 70.09625244140625, 70.20112609863281, 70.38211822509766]\n",
            "Image: 1\n",
            "Angle: 36.22591908772787 [36.30449295043945, 36.145694732666016, 36.218833923339844, 36.179622650146484, 36.076011657714844, 36.43085861206055]\n",
            "Image: 2\n",
            "Angle: 9.255888144175211 [9.366509437561035, 9.188837051391602, 9.22988510131836, 9.462322235107422, 9.229887008666992, 9.05788803100586]\n",
            "Image: 3\n",
            "Angle: 60.23323885599772 [60.31281661987305, 60.2551155090332, 60.21453857421875, 60.113468170166016, 60.3269157409668, 60.176578521728516]\n",
            "Image: 4\n",
            "Angle: 21.25418535868327 [21.326217651367188, 21.317913055419922, 21.214115142822266, 21.169137954711914, 21.10483741760254, 21.39289093017578]\n",
            "Image: 5\n",
            "Angle: 2.188169082005819 [2.21679425239563, 2.2647545337677, 2.070030689239502, 2.2906100749969482, 2.21679425239563, 2.070030689239502]\n",
            "Image: 6\n",
            "Angle: 84.18722152709961 [84.2894058227539, 84.05313110351562, 84.1175537109375, 84.12737274169922, 84.1604995727539, 84.3753662109375]\n",
            "Image: 7\n",
            "Angle: 46.21779251098633 [46.21779251098633]\n",
            "Image: 8\n",
            "Angle: 27.23180103302002 [27.30750274658203, 27.1981258392334, 27.223594665527344, 27.36821174621582, 27.189504623413086, 27.103866577148438]\n",
            "Image: 9\n",
            "Angle: 3.1957826217015586 [3.289242744445801, 3.1798300743103027, 3.450843095779419, 3.0304768085479736, 3.1302449703216553, 3.094058036804199]\n",
            "Image: 10\n",
            "Angle: 88.20841979980469 [88.2901840209961, 88.20072937011719, 88.0474853515625, 88.05851745605469, 88.36341857910156, 88.2901840209961]\n",
            "Image: 11\n",
            "Angle: 67.23980967203777 [67.30620574951172, 67.15196228027344, 67.2490234375, 67.14805603027344, 67.20347595214844, 67.38013458251953]\n",
            "Image: 12\n",
            "Angle: 45.21714401245117 [45.21714401245117]\n",
            "Image: 13\n",
            "Angle: 16.260821024576824 [16.24763298034668, 16.36107635498047, 16.209022521972656, 16.11341667175293, 16.413583755493164, 16.22019386291504]\n",
            "Image: 14\n",
            "Angle: 38.2505079905192 [38.26707458496094, 38.21535110473633, 38.26398849487305, 38.21102523803711, 38.13848114013672, 38.407127380371094]\n",
            "Image: 15\n",
            "Angle: 3.1792999108632407 [3.2286479473114014, 3.301865816116333, 3.0821807384490967, 3.2704875469207764, 3.1798300743103027, 3.012787342071533]\n",
            "Image: 16\n",
            "Angle: 0.09180269141991933 [0.3080388605594635, 0.0, 0.2427772879600525, 0.0, -0.0, 0.0]\n",
            "Image: 17\n",
            "Angle: 0.11084920664628346 [0.42128488421440125, -0.0, 0.24381035566329956, 0.0, -0.0, 0.0]\n",
            "Image: 18\n",
            "Angle: 0.11084921658039093 [0.0, 0.421284943819046, 0.24381035566329956, 0.0, 0.0, 0.0]\n",
            "Image: 19\n",
            "Angle: 0.09152814745903015 [0.0, 0.3063916265964508, 0.0, 0.2427772581577301, 0.0, 0.0]\n",
            "Image: 20\n",
            "Angle: 0.09152814745903015 [0.0, 0.3063916265964508, 0.0, 0.2427772581577301, 0.0, 0.0]\n"
          ]
        }
      ],
      "source": [
        "from pathlib import Path\n",
        "Path(\"rotate\").mkdir(parents=True, exist_ok=True)\n",
        "\n",
        "for file in listdir('./extract'):\n",
        "  print(\"Image:\", file)\n",
        "  img = cv2.imread(f\"extract/{file}\") # load image\n",
        "\n",
        "  contours = detect_black_squares(img) # detect squares\n",
        "\n",
        "  # calculate angle for each square\n",
        "  angles = []\n",
        "  for _, contour in contours:\n",
        "    _angle = detect_rotation_angle(contour)\n",
        "    angles.append(_angle)\n",
        "\n",
        "  angle = np.average(angles) # calculating the final offset as an average\n",
        "  print(\"Angle:\", angle, angles)\n",
        "  img = rotate_image(img, angle) # rotate image\n",
        "  contours = detect_black_squares(img) # detect squares again (after rotation)\n",
        "\n",
        "  squares = []\n",
        "  for _, contour in contours:\n",
        "    squares.append(cv2.boundingRect(contour))\n",
        "\n",
        "  bottom_left_square = find_bottom_left_square(squares, img)\n",
        "  horizontal = check_horizontal_line(squares, bottom_left_square)\n",
        "  vertical = check_vertical_line(squares, bottom_left_square)\n",
        "\n",
        "  nearest, farest = find_extreme_squares(squares, img)\n",
        "  # crop image\n",
        "  img = img[nearest[1] - nearest[3]:farest[1] + 2 * farest[3], nearest[0] - nearest[2]:farest[0] + 2 * farest[2]]\n",
        "\n",
        "  # detect position based on pattern and rotate image\n",
        "  if horizontal == 2 and vertical == 2:\n",
        "    img = cv2.rotate(img, cv2.ROTATE_180)\n",
        "  if horizontal == 3 and vertical == 2:\n",
        "    img = cv2.rotate(img, cv2.ROTATE_90_CLOCKWISE)\n",
        "  if horizontal == 2 and vertical == 3:\n",
        "    img = cv2.rotate(img, cv2.ROTATE_90_COUNTERCLOCKWISE)\n",
        "\n",
        "\n",
        "\n",
        "  cv2.imwrite(f\"rotate/{file}\", img)"
      ]
    },
    {
      "cell_type": "code",
      "execution_count": 13,
      "metadata": {
        "id": "YCl4cMsGmTzN"
      },
      "outputs": [],
      "source": [
        "def detect_student_name(image):\n",
        "  gray = cv2.cvtColor(image, cv2.COLOR_BGR2GRAY)\n",
        "  _, binary = cv2.threshold(gray, 0, 255, cv2.THRESH_BINARY | cv2.THRESH_OTSU)\n",
        "\n",
        "  edged = cv2.Canny(binary, 30, 200)\n",
        "\n",
        "  contours, _ = cv2.findContours(edged, cv2.RETR_EXTERNAL, cv2.CHAIN_APPROX_SIMPLE)\n",
        "\n",
        "  original_ratio = float(870 / 100) # hardcoded ratio based on sheet\n",
        "  squares = []\n",
        "  for contour in contours:\n",
        "      x, y, w, h = cv2.boundingRect(contour)\n",
        "      ratio = float(w / h)\n",
        "      if 0.8 * ratio <= original_ratio <= 1.2 * ratio:\n",
        "        squares.append((w * h, (x, y, w, h)))\n",
        "\n",
        "  squares.sort(key=lambda x: x[0], reverse=True)\n",
        "\n",
        "  # find the pair of largest rectangles that fit the ratio\n",
        "  similar_rectangles = None\n",
        "  largest_area_difference = float('inf')\n",
        "\n",
        "  for i in range(len(squares)):\n",
        "      for j in range(i + 1, len(squares)):\n",
        "          if 0.9 * squares[i][0] <= squares[j][0] <= 1.1 * squares[i][0]:\n",
        "              area_difference = abs(squares[i][0] - squares[j][0])\n",
        "              if area_difference < largest_area_difference:\n",
        "                  similar_rectangles = (squares[i][1], squares[j][1])\n",
        "                  largest_area_difference = area_difference\n",
        "\n",
        "  # take the square that is lower than the other one\n",
        "  rectangle = similar_rectangles[0] if similar_rectangles[0][1] > similar_rectangles[1][1] else similar_rectangles[1]\n",
        "  assert rectangle is not None\n",
        "\n",
        "  # put the mask on the rectangle\n",
        "  x, y, w, h = rectangle\n",
        "  image = cv2.rectangle(\n",
        "    image,\n",
        "    (x, y),\n",
        "    (x + w, y + h),\n",
        "    (255, 255, 255),\n",
        "    -1\n",
        "  )\n",
        "\n",
        "  return rectangle"
      ]
    },
    {
      "cell_type": "code",
      "execution_count": 14,
      "metadata": {
        "colab": {
          "base_uri": "https://localhost:8080/"
        },
        "id": "T9elw3m3nNVl",
        "outputId": "d34c9280-b8d3-4a40-ed64-05f1e01b0080"
      },
      "outputs": [
        {
          "name": "stdout",
          "output_type": "stream",
          "text": [
            "Image: 0\n",
            "Image: 1\n",
            "Image: 2\n",
            "Image: 3\n",
            "Image: 4\n",
            "Image: 5\n",
            "Image: 6\n",
            "Image: 7\n",
            "Image: 8\n",
            "Image: 9\n",
            "Image: 10\n",
            "Image: 11\n",
            "Image: 12\n",
            "Image: 13\n",
            "Image: 14\n",
            "Image: 15\n",
            "Image: 16\n",
            "Image: 17\n",
            "Image: 18\n",
            "Image: 19\n",
            "Image: 20\n"
          ]
        }
      ],
      "source": [
        "from pathlib import Path\n",
        "Path(\"anonymize\").mkdir(parents=True, exist_ok=True)\n",
        "\n",
        "for file in listdir('./rotate'):\n",
        "  print(\"Image:\", file)\n",
        "  img = cv2.imread(f\"rotate/{file}\")\n",
        "\n",
        "  detect_student_name(img)\n",
        "\n",
        "  cv2.imwrite(f\"anonymize/{file}\", img)"
      ]
    },
    {
      "cell_type": "markdown",
      "metadata": {
        "id": "SeotHHxnwjPS"
      },
      "source": []
    },
    {
      "cell_type": "code",
      "execution_count": 15,
      "metadata": {
        "colab": {
          "base_uri": "https://localhost:8080/"
        },
        "id": "gFBYg08cwVnr",
        "outputId": "7e7fc9eb-ab12-4a32-b5cf-f51594335bc1"
      },
      "outputs": [
        {
          "name": "stdout",
          "output_type": "stream",
          "text": [
            "  adding: content/anonymize/ (stored 0%)\n",
            "  adding: content/anonymize/14.png (deflated 14%)\n",
            "  adding: content/anonymize/5.png (deflated 15%)\n",
            "  adding: content/anonymize/3.png (deflated 14%)\n",
            "  adding: content/anonymize/15.png (deflated 15%)\n",
            "  adding: content/anonymize/2.png (deflated 14%)\n",
            "  adding: content/anonymize/20.png (deflated 16%)\n",
            "  adding: content/anonymize/18.png (deflated 16%)\n",
            "  adding: content/anonymize/4.png (deflated 14%)\n",
            "  adding: content/anonymize/12.png (deflated 14%)\n",
            "  adding: content/anonymize/0.png (deflated 14%)\n",
            "  adding: content/anonymize/10.png (deflated 15%)\n",
            "  adding: content/anonymize/8.png (deflated 14%)\n",
            "  adding: content/anonymize/13.png (deflated 14%)\n",
            "  adding: content/anonymize/9.png (deflated 15%)\n",
            "  adding: content/anonymize/1.png (deflated 14%)\n",
            "  adding: content/anonymize/19.png (deflated 16%)\n",
            "  adding: content/anonymize/17.png (deflated 16%)\n",
            "  adding: content/anonymize/6.png (deflated 14%)\n",
            "  adding: content/anonymize/11.png (deflated 14%)\n",
            "  adding: content/anonymize/7.png (deflated 14%)\n",
            "  adding: content/anonymize/16.png (deflated 16%)\n"
          ]
        }
      ],
      "source": [
        "!zip -r /content/anonymize.zip /content/anonymize\n"
      ]
    }
  ],
  "metadata": {
    "colab": {
      "provenance": []
    },
    "kernelspec": {
      "display_name": "Python 3",
      "name": "python3"
    },
    "language_info": {
      "name": "python"
    }
  },
  "nbformat": 4,
  "nbformat_minor": 0
}

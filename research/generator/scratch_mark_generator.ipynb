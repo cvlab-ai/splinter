{
 "cells": [
  {
   "cell_type": "code",
   "execution_count": null,
   "metadata": {},
   "outputs": [],
   "source": [
    "import math\n",
    "import random\n",
    "from typing import List, Tuple, Any\n",
    "\n",
    "import cv2\n",
    "from matplotlib import path as mpath, patches as mpatches, pyplot as plt \n",
    "from scipy.special import comb\n",
    "import numpy as np\n",
    "from collections import namedtuple\n"
   ]
  },
  {
   "cell_type": "code",
   "execution_count": null,
   "metadata": {},
   "outputs": [],
   "source": [
    "Point = namedtuple('Point', ('x', 'y'))\n",
    "\n",
    "def bernstein_poly(i, n, t):\n",
    "    \"\"\"\n",
    "     The Bernstein polynomial of n, i as a function of t\n",
    "    \"\"\"\n",
    "\n",
    "    return comb(n, i) * ( t**(n-i) ) * (1 - t)**i\n",
    "\n",
    "\n",
    "def bezier_curve(points, nTimes=1000):\n",
    "    \"\"\"\n",
    "       Given a set of control points, return the\n",
    "       bezier curve defined by the control points.\n",
    "\n",
    "       points should be a list of lists, or list of tuples\n",
    "       such as [ [1,1], \n",
    "                 [2,3], \n",
    "                 [4,5], ..[Xn, Yn] ]\n",
    "        nTimes is the number of time steps, defaults to 1000\n",
    "\n",
    "        See http://processingjs.nihongoresources.com/bezierinfo/\n",
    "    \"\"\"\n",
    "\n",
    "    nPoints = len(points)\n",
    "    xPoints = np.array([p[0] for p in points])\n",
    "    yPoints = np.array([p[1] for p in points])\n",
    "\n",
    "    t = np.linspace(0.0, 1.0, nTimes)\n",
    "\n",
    "    polynomial_array = np.array([ bernstein_poly(i, nPoints-1, t) for i in range(0, nPoints)   ])\n",
    "\n",
    "    xvals = np.dot(xPoints, polynomial_array)\n",
    "    yvals = np.dot(yPoints, polynomial_array)\n",
    "\n",
    "    return xvals, yvals"
   ]
  },
  {
   "cell_type": "code",
   "execution_count": null,
   "metadata": {},
   "outputs": [],
   "source": [
    "C = 0.551915024494 \n",
    "\n",
    "# (1, 0), (c, 1), (1, c), (0, 1) ()\n",
    "\n",
    "# But to randomize it's more convinient to work with polar points\n",
    "B = math.atan(C)\n",
    "D = math.sqrt(math.pow(C, 2) + 1)\n",
    "\n",
    "# And we want to remove the last point from quarter to join with other quarters \n",
    "PERFECT_QUARTER_POINTS = np.array([(1, 0), (D, B), (D, math.pi / 2 - B)])\n",
    "\n",
    "QUARTER_ANGLE = math.pi / 2"
   ]
  },
  {
   "cell_type": "code",
   "execution_count": null,
   "metadata": {},
   "outputs": [],
   "source": [
    "def pol2cart(radius: float, angle: float):\n",
    "    x = radius * np.cos(angle)\n",
    "    y = radius * np.sin(angle)\n",
    "    return x, y\n",
    "\n",
    "\n",
    "def create_next_quarter(last_quarter: np.array, max_radius_dev: float, max_angle_dev: float, close: bool = False):\n",
    "    new_quarter = []\n",
    "    radius_deviation = random.normalvariate(0, max_radius_dev/3)\n",
    "    angle_deviation = random.normalvariate(0, max_angle_dev/3)\n",
    "    new_quarter = last_quarter.copy() + (radius_deviation, angle_deviation + QUARTER_ANGLE)\n",
    "    if close:\n",
    "        closing_point = last_quarter[0] + (radius_deviation, angle_deviation + 2 * QUARTER_ANGLE)\n",
    "        new_quarter = np.append(new_quarter, [closing_point], axis=0)\n",
    "    return new_quarter\n",
    "\n",
    "\n",
    "def create_handwritten_circle(start_angle_dev: float, max_radius_dev: float, max_angle_dev: float):\n",
    "    quarters = [create_next_quarter(PERFECT_QUARTER_POINTS, max_radius_dev, max_angle_dev)]\n",
    "    for quarter_number in range(3): # add the remaining 3 quarters \n",
    "        close = True if quarter_number == 2 else False\n",
    "        quarters.append(create_next_quarter(quarters[-1], max_radius_dev, max_angle_dev, close))\n",
    "\n",
    "    circle_point_pol = np.concatenate(quarters)\n",
    "    # Rotate circle\n",
    "    circle_point_pol += (0, random.uniform(-start_angle_dev, start_angle_dev))\n",
    "    circle_points_cart = np.array([pol2cart(radius, angle) for radius, angle in circle_point_pol])\n",
    "    return bezier_curve(circle_points_cart, 10000)\n"
   ]
  },
  {
   "cell_type": "code",
   "execution_count": null,
   "metadata": {},
   "outputs": [],
   "source": [
    "def calculate_mask(xvals: np.array, yvals: np.array, image_shape: Tuple[int]) -> np.array:\n",
    "    assert len(image_shape) == 2 \n",
    "    _xvals, _yvals = xvals.copy(), yvals.copy()\n",
    "    result = np.zeros(image_shape)\n",
    "    xmin, xmax = np.min(_xvals), np.max(_xvals)\n",
    "    ymin, ymax = np.min(_yvals), np.max(_yvals)\n",
    "    width, height = xmax - xmin, ymax - ymin\n",
    "    target_width, target_height = image_shape\n",
    "    xscale, yscale = (target_width)/width, (target_height)/height\n",
    "    middle_rate = random.uniform(0.8, 1)\n",
    "    scale = min([xscale, yscale]) * middle_rate\n",
    "    _xvals -= xmin\n",
    "    _yvals -= ymin\n",
    "    _xvals *= scale \n",
    "    _yvals *= scale\n",
    "    _xvals += target_width * (1 - middle_rate) * .5\n",
    "    _yvals += target_height * (1 - middle_rate) * .5\n",
    "    _xvals[_xvals >= image_shape[0]] = image_shape[0] - 1\n",
    "    _yvals[_yvals >= image_shape[1]] = image_shape[1] - 1\n",
    "    for x, y in zip(_xvals, _yvals):\n",
    "        result[int(y)][int(x)] = 1\n",
    "    return result\n",
    "\n",
    "def show_image(img: np.array):\n",
    "    plt.imshow(img, cmap='gray')\n"
   ]
  },
  {
   "cell_type": "code",
   "execution_count": null,
   "metadata": {},
   "outputs": [],
   "source": [
    "def create_handwritten_cross(alpha: float, gamma: float):\n",
    "    def generate_points(first_handle: Tuple[float, float], control_point: Tuple[float, float], second_handle: Tuple[float, float]):\n",
    "        return [(first_handle[0] + random.normalvariate(0, alpha), first_handle[1] + random.normalvariate(0, alpha)),                   \n",
    "                (control_point[0] + random.normalvariate(0, gamma), control_point[1] + random.normalvariate(0, gamma)), \n",
    "                (second_handle[0] + random.normalvariate(0, alpha), second_handle[1] + random.normalvariate(0, alpha))]\n",
    "    \"\"\"\n",
    "    :param alpha: deviation of start and end of the lines\n",
    "    :param gamma: deviation from the center for the bezier control point\n",
    "    \"\"\"\n",
    "    line1 = generate_points((0, 1), (.5, .5), (1, 0))\n",
    "    line2 = generate_points((0, 0), (.5, .5), (1, 1))\n",
    "    return np.concatenate((bezier_curve(line1, 10000), bezier_curve(line2, 10000)), axis=1)\n",
    "    "
   ]
  },
  {
   "cell_type": "code",
   "execution_count": null,
   "metadata": {},
   "outputs": [],
   "source": [
    "xvals, yvals = create_handwritten_circle(random.normalvariate(0, math.pi), \n",
    "                                         random.normalvariate(0, 0.25), \n",
    "                                         random.normalvariate(0, 0.5))\n",
    "mask_circle = calculate_mask(xvals, yvals, (125, 125))\n",
    "\n",
    "\n",
    "xvals, yvals = create_handwritten_cross(0.15, 0.05)\n",
    "\n",
    "\n",
    "plt.plot(xvals, yvals)\n",
    "\n",
    "\n",
    "mask_cross = calculate_mask(xvals, yvals, (125, 125))\n",
    "\n",
    "mask_circle += mask_cross\n",
    "mask_circle[mask_circle > 1] = 1\n",
    "show_image(mask_circle)\n"
   ]
  },
  {
   "cell_type": "code",
   "execution_count": null,
   "metadata": {},
   "outputs": [],
   "source": [
    "def create_handwritten_doodle(alpha: float, beta: float, gamma: float, outlier_shape: Tuple[float, float] = (1., 1.)):\n",
    "    \"\"\"\n",
    "    :param alpha: deviation of handle points X values\n",
    "    :param beta: deviation of handle points Y values\n",
    "    :param gamma: deviation of bezier control point position\n",
    "    \"\"\"\n",
    "\n",
    "    def calculate_control(first_handle: Point, second_handle: Point):\n",
    "        middle_x, middle_y = abs(first_handle.x - second_handle.x)/2, (abs(first_handle.y - second_handle.y)/2 + min(first_handle.y, second_handle.y))\n",
    "        return random.normalvariate(middle_x, gamma), random.normalvariate(middle_y, 0) \n",
    "\n",
    "    lines = []\n",
    "    recent_handle = Point(random.normalvariate(alpha/2, alpha/6), random.normalvariate(beta/2, beta/6))\n",
    "    while recent_handle.y < outlier_shape[1] + random.normalvariate(beta/2, beta/6):\n",
    "        alpha_shift, beta_shift = random.normalvariate(alpha/2, alpha/6), random.normalvariate(beta/2, beta/6)\n",
    "        next_handle = Point(alpha_shift if recent_handle[0] > outlier_shape[0]/2 else outlier_shape[0]-alpha_shift, recent_handle[1] + beta_shift)\n",
    "        control_point = calculate_control(recent_handle, next_handle)\n",
    "        lines.append(bezier_curve([recent_handle, control_point, next_handle], 10000))\n",
    "        recent_handle = next_handle\n",
    "\n",
    "    return np.concatenate(lines, axis=1)\n",
    "\n",
    "def rotate_doodle(image: np.array, rotation: int, scale: float):\n",
    "    image_center = tuple(np.array(image.shape[1::-1])/2)\n",
    "    rotated_mask_circle = cv2.getRotationMatrix2D(image_center, rotation, scale)\n",
    "    return cv2.warpAffine(mask_drawings, rotated_mask_circle, mask_drawings.shape[1::-1], flags=cv2.INTER_LINEAR)"
   ]
  },
  {
   "cell_type": "code",
   "execution_count": null,
   "metadata": {},
   "outputs": [],
   "source": [
    "xvals, yvals = create_handwritten_doodle(0.2, 0.04, 0.05)\n",
    "mask_drawings = calculate_mask(xvals, yvals, (125, 125))\n",
    "rotated_mask_circle = rotate_doodle(mask_drawings, 30, 1.5)\n",
    "\n",
    "show_image(rotated_mask_circle)\n"
   ]
  },
  {
   "cell_type": "code",
   "execution_count": null,
   "metadata": {},
   "outputs": [],
   "source": [
    "def create_handwritten_tick(alpha: float, beta: float, gamma: float):\n",
    "    left_handle = Point(random.normalvariate(alpha/2, alpha/6), random.normalvariate(1/4, beta))\n",
    "    right_handle = Point(random.normalvariate(1 - alpha/2, alpha/6), random.normalvariate(1/4, beta))          \n",
    "    right_control = Point(random.normalvariate(right_handle.x - gamma/2, gamma/6), random.normalvariate(3/4, beta))\n",
    "    left_control = Point(random.normalvariate(left_handle.x + gamma/2, gamma/6), random.normalvariate(3/4, beta))\n",
    "    return bezier_curve([left_handle, right_control, left_control, right_handle], 1000)"
   ]
  },
  {
   "cell_type": "code",
   "execution_count": null,
   "metadata": {},
   "outputs": [],
   "source": [
    "xvals, yvals = create_handwritten_tick(0.5, 0.15, 0.2)\n",
    "mask = calculate_mask(xvals, yvals, (100, 100))\n",
    "assert max(xvals) <= 1\n",
    "\n",
    "show_image(mask)"
   ]
  }
 ],
 "metadata": {
  "interpreter": {
   "hash": "48b202414a1750b3f3911ccb4eaf300078daaef4329408d093c9912e5290ebdb"
  },
  "kernelspec": {
   "display_name": "Python 3.8.10 ('venv_splinter': venv)",
   "language": "python",
   "name": "python3"
  },
  "language_info": {
   "codemirror_mode": {
    "name": "ipython",
    "version": 3
   },
   "file_extension": ".py",
   "mimetype": "text/x-python",
   "name": "python",
   "nbconvert_exporter": "python",
   "pygments_lexer": "ipython3",
   "version": "3.9.9"
  },
  "orig_nbformat": 4
 },
 "nbformat": 4,
 "nbformat_minor": 2
}

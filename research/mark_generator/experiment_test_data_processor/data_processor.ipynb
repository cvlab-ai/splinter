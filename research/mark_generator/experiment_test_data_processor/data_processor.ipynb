{
 "cells": [
  {
   "cell_type": "code",
   "execution_count": 1,
   "metadata": {
    "collapsed": true,
    "ExecuteTime": {
     "start_time": "2024-10-09T22:55:55.953704Z",
     "end_time": "2024-10-09T22:55:59.390370Z"
    }
   },
   "outputs": [],
   "source": [
    "import os\n",
    "import time\n",
    "from glob import glob\n",
    "\n",
    "import cv2\n",
    "import numpy as np\n",
    "from matplotlib import pyplot as plt\n",
    "from keras.models import load_model\n",
    "from tqdm import tqdm"
   ]
  },
  {
   "cell_type": "code",
   "execution_count": 2,
   "outputs": [],
   "source": [
    "IMG_SIZE = (90, 90)\n",
    "MODEL_PATH = \"../data/model/\""
   ],
   "metadata": {
    "collapsed": false,
    "ExecuteTime": {
     "start_time": "2024-10-09T22:55:59.405788Z",
     "end_time": "2024-10-09T22:55:59.407799Z"
    }
   }
  },
  {
   "cell_type": "code",
   "execution_count": 3,
   "outputs": [],
   "source": [
    "def load_image(image_path, color=cv2.IMREAD_GRAYSCALE):\n",
    "    image = cv2.imread(image_path, color)\n",
    "    if image is None:\n",
    "        raise FileNotFoundError(f\"Image not found: {image_path}\")\n",
    "\n",
    "    return image\n",
    "\n",
    "\n",
    "def show_image(img, cmap=\"gray\"):\n",
    "    plt.figure(figsize=(10, 10))\n",
    "    plt.imshow(img, cmap=cmap)\n",
    "    plt.axis(\"off\")\n",
    "    plt.show()\n",
    "\n",
    "\n",
    "def show_image_with_contours(img, contours):\n",
    "    contour_image = cv2.cvtColor(img, cv2.COLOR_GRAY2BGR)  # Convert to color for drawing\n",
    "    cv2.drawContours(contour_image, contours, -1, (0, 255, 0), 2)\n",
    "    show_image(contour_image)\n",
    "\n",
    "\n",
    "def filter_answer_boxes_by_size(contours, min_w=27, max_w=31, min_h=27, max_h=31):\n",
    "    answer_box_contours = []\n",
    "\n",
    "    for contour in contours:\n",
    "        x, y, w, h = cv2.boundingRect(contour)\n",
    "\n",
    "        if min_w <= w <= max_w and min_h <= h <= max_h:\n",
    "            answer_box_contours.append(contour)\n",
    "\n",
    "    return answer_box_contours\n",
    "\n",
    "\n",
    "def analyze_contour_sizes(contours):\n",
    "    for contour in contours:\n",
    "        x, y, w, h = cv2.boundingRect(contour)\n",
    "        print(f\"Contour: width={w}, height={h}\")\n",
    "\n",
    "\n",
    "def extract_rectangles(image, rectangles, target_size=IMG_SIZE):\n",
    "    extracted_rectangles = []\n",
    "    target_h, target_w = target_size\n",
    "\n",
    "    for rectangle in rectangles:\n",
    "        x, y, w, h = cv2.boundingRect(rectangle)\n",
    "\n",
    "        cropped_image = image[y:y + h, x:x + w]\n",
    "        padded_image = np.ones((target_h, target_w), dtype=np.uint8) * 255\n",
    "\n",
    "        scale = min(target_w / w, target_h / h)\n",
    "        new_w = int(w * scale)\n",
    "        new_h = int(h * scale)\n",
    "\n",
    "        resized_image = cv2.resize(cropped_image, (new_w, new_h))\n",
    "\n",
    "        start_x = (target_w - new_w) // 2\n",
    "        start_y = (target_h - new_h) // 2\n",
    "\n",
    "        padded_image[start_y:start_y + new_h, start_x:start_x + new_w] = resized_image\n",
    "        extracted_rectangles.append(padded_image)\n",
    "\n",
    "    return extracted_rectangles\n",
    "\n",
    "\n",
    "def save_extracted_rectangles(extracted_rectangles, path_to_save):\n",
    "    os.makedirs(path_to_save, exist_ok=True)\n",
    "    timestamp = time.strftime(\"%d_%m_%Y_%H_%M_%S\")\n",
    "    for i, extracted_rectangle in enumerate(extracted_rectangles):\n",
    "        cv2.imwrite(f\"{path_to_save}/rectangle_{timestamp}_{i}.png\", extracted_rectangle)\n"
   ],
   "metadata": {
    "collapsed": false,
    "ExecuteTime": {
     "start_time": "2024-10-09T22:55:59.412795Z",
     "end_time": "2024-10-09T22:55:59.428846Z"
    }
   }
  },
  {
   "cell_type": "code",
   "execution_count": 17,
   "outputs": [
    {
     "name": "stderr",
     "output_type": "stream",
     "text": [
      "100%|██████████| 85/85 [00:15<00:00,  5.43it/s]\n"
     ]
    }
   ],
   "source": [
    "images_paths = glob(\"data/input/*.png\")\n",
    "for image_path in tqdm(images_paths):\n",
    "    image = load_image(image_path, color=cv2.IMREAD_GRAYSCALE)\n",
    "    blurred_image = cv2.GaussianBlur(image, (5, 5), 0)\n",
    "    adaptive_threshold = cv2.adaptiveThreshold(blurred_image, 255, cv2.ADAPTIVE_THRESH_GAUSSIAN_C,\n",
    "                                               cv2.THRESH_BINARY_INV, 11, 2)\n",
    "    contours, _ = cv2.findContours(adaptive_threshold, cv2.RETR_EXTERNAL, cv2.CHAIN_APPROX_SIMPLE)\n",
    "    answer_box_contours = filter_answer_boxes_by_size(contours, min_w=60, max_w=100, min_h=60, max_h=100)\n",
    "    extracted_rectangles = extract_rectangles(image, answer_box_contours)\n",
    "    save_extracted_rectangles(extracted_rectangles, \"data/output/test_dataset\")\n"
   ],
   "metadata": {
    "collapsed": false,
    "ExecuteTime": {
     "start_time": "2024-10-09T23:22:41.252017Z",
     "end_time": "2024-10-09T23:22:56.916650Z"
    }
   }
  },
  {
   "cell_type": "code",
   "execution_count": 4,
   "outputs": [
    {
     "name": "stdout",
     "output_type": "stream",
     "text": [
      "Model: \"sequential_4\"\n",
      "_________________________________________________________________\n",
      " Layer (type)                Output Shape              Param #   \n",
      "=================================================================\n",
      " MobilenetV3small (Functiona  (None, 3, 3, 576)        939120    \n",
      " l)                                                              \n",
      "                                                                 \n",
      " global_average_pooling2d_4   (None, 576)              0         \n",
      " (GlobalAveragePooling2D)                                        \n",
      "                                                                 \n",
      " dense_4 (Dense)             (None, 1)                 577       \n",
      "                                                                 \n",
      "=================================================================\n",
      "Total params: 939,697\n",
      "Trainable params: 927,585\n",
      "Non-trainable params: 12,112\n",
      "_________________________________________________________________\n"
     ]
    }
   ],
   "source": [
    "model = load_model(MODEL_PATH)\n",
    "model.summary()"
   ],
   "metadata": {
    "collapsed": false,
    "ExecuteTime": {
     "start_time": "2024-10-09T22:55:59.423678Z",
     "end_time": "2024-10-09T22:56:06.117693Z"
    }
   }
  },
  {
   "cell_type": "code",
   "execution_count": 18,
   "outputs": [
    {
     "name": "stdout",
     "output_type": "stream",
     "text": [
      "Loaded 2496 images\n"
     ]
    },
    {
     "name": "stderr",
     "output_type": "stream",
     "text": [
      "100%|██████████| 2496/2496 [01:40<00:00, 24.76it/s]\n"
     ]
    }
   ],
   "source": [
    "images_to_predict = glob(\"data/output/test_dataset/*.png\")\n",
    "print(f\"Loaded {len(images_to_predict)} images\")\n",
    "for image_path in tqdm(images_to_predict):\n",
    "    image = load_image(image_path, color=cv2.IMREAD_COLOR)\n",
    "    gray_image = cv2.cvtColor(image, cv2.COLOR_BGR2GRAY)\n",
    "    _, binary_image = cv2.threshold(gray_image, 128, 255, cv2.THRESH_BINARY)\n",
    "    binary_image_rgb = cv2.cvtColor(binary_image, cv2.COLOR_GRAY2BGR)\n",
    "    image = np.expand_dims(binary_image_rgb, axis=0)\n",
    "    prediction = model.predict(image, verbose=0)\n",
    "    predicted_label = prediction.round().flatten().astype(int)[0]\n",
    "    os.makedirs(f\"data/output/predictions/{predicted_label}\", exist_ok=True)\n",
    "    cv2.imwrite(f\"data/output/predictions/{predicted_label}/{os.path.basename(image_path)}\", cv2.imread(image_path))"
   ],
   "metadata": {
    "collapsed": false,
    "ExecuteTime": {
     "start_time": "2024-10-09T23:23:03.995184Z",
     "end_time": "2024-10-09T23:24:44.849311Z"
    }
   }
  },
  {
   "cell_type": "code",
   "execution_count": 10,
   "outputs": [
    {
     "data": {
      "text/plain": "<Figure size 1000x1000 with 1 Axes>",
      "image/png": "[encoded data removed]"
     },
     "metadata": {},
     "output_type": "display_data"
    },
    {
     "name": "stdout",
     "output_type": "stream",
     "text": [
      "Image size: (90, 90, 3)\n",
      "Predictions: [1.]\n"
     ]
    }
   ],
   "source": [
    "IMAGE_PATH = \"data/output/test_dataset/rectangle_09_10_2024_22_43_06_1.png\"\n",
    "image = load_image(IMAGE_PATH, color=cv2.IMREAD_COLOR)\n",
    "show_image(image)\n",
    "print(f\"Image size: {image.shape}\")\n",
    "model_input = np.expand_dims(image, axis=0)\n",
    "prediction = model.predict(model_input, verbose=0)\n",
    "predicted_label = prediction.round().flatten()\n",
    "print(f\"Predictions: {predicted_label}\")"
   ],
   "metadata": {
    "collapsed": false,
    "ExecuteTime": {
     "start_time": "2024-10-09T23:00:44.211375Z",
     "end_time": "2024-10-09T23:00:44.940163Z"
    }
   }
  },
  {
   "cell_type": "code",
   "execution_count": null,
   "outputs": [],
   "source": [],
   "metadata": {
    "collapsed": false
   }
  },
  {
   "cell_type": "code",
   "execution_count": 29,
   "outputs": [
    {
     "name": "stdout",
     "output_type": "stream",
     "text": [
      "Found 2496 files belonging to 2 classes.\n",
      "Dataset size: 2560\n",
      "[Raw] Accuracy: 0.9987980769230769, Precision: 1.0, Recall: 0.9964705882352941\n",
      "Time: 2131.7675 ms\n",
      "[Preprocessed] Accuracy: 1.0, Precision: 1.0, Recall: 1.0\n",
      "Time: 2754.0748 ms\n"
     ]
    }
   ],
   "source": [
    "from keras.utils import image_dataset_from_directory\n",
    "from sklearn.metrics import accuracy_score, precision_score, recall_score\n",
    "\n",
    "BATCH_SIZE=256\n",
    "TEST_DATASET_DIR = \"data/output/test/\"\n",
    "\n",
    "\n",
    "test_dataset = image_dataset_from_directory(\n",
    "    TEST_DATASET_DIR,\n",
    "    image_size=IMG_SIZE,\n",
    "    batch_size=BATCH_SIZE,\n",
    "    color_mode='rgb',\n",
    "    label_mode='binary'\n",
    ")\n",
    "print(f\"Dataset size: {len(test_dataset) * BATCH_SIZE}\")\n",
    "\n",
    "def preprocess_image(image):\n",
    "    image = image.numpy()\n",
    "    gray_image = cv2.cvtColor(image, cv2.COLOR_BGR2GRAY)\n",
    "    _, binary_image = cv2.threshold(gray_image, 128, 255, cv2.THRESH_BINARY)\n",
    "    binary_image_rgb = cv2.cvtColor(binary_image, cv2.COLOR_GRAY2BGR)\n",
    "    return binary_image_rgb\n",
    "\n",
    "def preprocess_images(images):\n",
    "    preprocessed_images = []\n",
    "    for image in images:\n",
    "        preprocessed_image = preprocess_image(image)\n",
    "        preprocessed_image = np.expand_dims(preprocessed_image, axis=0)\n",
    "        preprocessed_images.append(preprocessed_image)\n",
    "\n",
    "    return np.vstack(preprocessed_images)\n",
    "\n",
    "def evaluate_model(model, dataset, preprocess_image: bool):\n",
    "    y_true = []\n",
    "    y_pred = []\n",
    "    for images, labels in dataset:\n",
    "        model_input = preprocess_images(images) if preprocess_image else images\n",
    "        predictions = model.predict(model_input, verbose=0)\n",
    "        y_true.extend(labels.numpy())\n",
    "        y_pred.extend(predictions.round().flatten())\n",
    "\n",
    "    accuracy = accuracy_score(y_true, y_pred)\n",
    "    precision = precision_score(y_true, y_pred)\n",
    "    recall = recall_score(y_true, y_pred)\n",
    "\n",
    "    return accuracy, precision, recall\n",
    "\n",
    "# Evaluate the model on the test dataset\n",
    "def print_metrics(accuracy, precision, recall, preprocess_image: bool):\n",
    "    prefix = \"Preprocessed\" if preprocess_image else \"Raw\"\n",
    "    print(f\"[{prefix}] Accuracy: {accuracy}, Precision: {precision}, Recall: {recall}\")\n",
    "\n",
    "t0 = time.perf_counter_ns()\n",
    "accuracy, precision, recall = evaluate_model(model, test_dataset, False)\n",
    "t1 = time.perf_counter_ns()\n",
    "print_metrics(accuracy, precision, recall, False)\n",
    "print(f\"Time: {(t1 - t0) / 1e6} ms\")\n",
    "\n",
    "t0 = time.perf_counter_ns()\n",
    "accuracy, precision, recall = evaluate_model(model, test_dataset, True)\n",
    "t1 = time.perf_counter_ns()\n",
    "print_metrics(accuracy, precision, recall, True)\n",
    "print(f\"Time: {(t1 - t0) / 1e6} ms\")\n"
   ],
   "metadata": {
    "collapsed": false,
    "ExecuteTime": {
     "start_time": "2024-10-09T23:44:43.816181Z",
     "end_time": "2024-10-09T23:44:48.943701Z"
    }
   }
  },
  {
   "cell_type": "code",
   "execution_count": null,
   "outputs": [],
   "source": [],
   "metadata": {
    "collapsed": false
   }
  }
 ],
 "metadata": {
  "kernelspec": {
   "display_name": "Python 3",
   "language": "python",
   "name": "python3"
  },
  "language_info": {
   "codemirror_mode": {
    "name": "ipython",
    "version": 2
   },
   "file_extension": ".py",
   "mimetype": "text/x-python",
   "name": "python",
   "nbconvert_exporter": "python",
   "pygments_lexer": "ipython2",
   "version": "2.7.6"
  }
 },
 "nbformat": 4,
 "nbformat_minor": 0
}
